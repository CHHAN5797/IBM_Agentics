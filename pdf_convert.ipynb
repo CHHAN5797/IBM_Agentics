{
 "cells": [
  {
   "cell_type": "code",
   "execution_count": 4,
   "id": "d6647274",
   "metadata": {},
   "outputs": [
    {
     "name": "stdout",
     "output_type": "stream",
     "text": [
      "Collecting reportlab\n",
      "  Using cached reportlab-4.4.3-py3-none-any.whl.metadata (1.7 kB)\n",
      "Requirement already satisfied: pillow>=9.0.0 in /Users/chunghyunhan/Projects/.venv/lib/python3.12/site-packages (from reportlab) (11.3.0)\n",
      "Requirement already satisfied: charset-normalizer in /Users/chunghyunhan/Projects/.venv/lib/python3.12/site-packages (from reportlab) (3.4.3)\n",
      "Using cached reportlab-4.4.3-py3-none-any.whl (2.0 MB)\n",
      "Installing collected packages: reportlab\n",
      "Successfully installed reportlab-4.4.3\n"
     ]
    }
   ],
   "source": [
    "!pip install reportlab"
   ]
  },
  {
   "cell_type": "code",
   "execution_count": 5,
   "id": "73908c4e",
   "metadata": {},
   "outputs": [
    {
     "name": "stdout",
     "output_type": "stream",
     "text": [
      "PDF 변환 완료: snapshot_mcp.pdf\n"
     ]
    }
   ],
   "source": [
    "from reportlab.lib.pagesizes import letter\n",
    "from reportlab.pdfgen import canvas\n",
    "\n",
    "# 변환할 파일 이름\n",
    "input_file = \"/Users/chunghyunhan/Projects/agentics/src/agentics/mcp/snapshot_api.py\"\n",
    "output_file = \"snapshot_mcp.pdf\"\n",
    "\n",
    "# PDF 캔버스 생성\n",
    "c = canvas.Canvas(output_file, pagesize=letter)\n",
    "width, height = letter\n",
    "\n",
    "# py 파일 읽기\n",
    "\n",
    "with open(input_file, \"r\", encoding=\"utf-8\") as f:\n",
    "    lines = f.readlines()\n",
    "\n",
    "# 텍스트 추가\n",
    "y = height - 40  # 시작 위치\n",
    "for line in lines:\n",
    "    if y < 40:  # 한 페이지 꽉 차면 새 페이지\n",
    "        c.showPage()\n",
    "        y = height - 40\n",
    "    c.drawString(40, y, line.strip())\n",
    "    y -= 15  # 줄 간격\n",
    "\n",
    "c.save()\n",
    "print(\"PDF 변환 완료:\", output_file)\n"
   ]
  },
  {
   "cell_type": "code",
   "execution_count": null,
   "id": "c7e5c318",
   "metadata": {},
   "outputs": [],
   "source": []
  }
 ],
 "metadata": {
  "kernelspec": {
   "display_name": ".venv",
   "language": "python",
   "name": "python3"
  },
  "language_info": {
   "codemirror_mode": {
    "name": "ipython",
    "version": 3
   },
   "file_extension": ".py",
   "mimetype": "text/x-python",
   "name": "python",
   "nbconvert_exporter": "python",
   "pygments_lexer": "ipython3",
   "version": "3.12.5"
  }
 },
 "nbformat": 4,
 "nbformat_minor": 5
}
